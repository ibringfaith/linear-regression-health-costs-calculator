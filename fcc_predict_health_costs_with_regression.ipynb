{
  "cells": [
    {
      "cell_type": "markdown",
      "source": [
        "**Predict healthcare costs using a regression algorithm.**\n",
        "\n",
        "You are given a dataset that contains information about different people including their healthcare costs. Use the data to predict healthcare costs based on new data."
      ],
      "metadata": {
        "id": "iPtxfNVmmnyk"
      }
    },
    {
      "cell_type": "code",
      "execution_count": null,
      "metadata": {
        "id": "1rRo8oNqZ-Rj"
      },
      "outputs": [],
      "source": [
        "# Import libraries. You may or may not use all of these.\n",
        "!pip install -q git+https://github.com/tensorflow/docs\n",
        "import matplotlib.pyplot as plt\n",
        "import numpy as np\n",
        "import pandas as pd\n",
        "import seaborn as sns\n",
        "from sklearn.model_selection import train_test_split\n",
        "from sklearn.preprocessing import StandardScaler, MinMaxScaler, OneHotEncoder\n",
        "from sklearn.compose import ColumnTransformer\n",
        "\n",
        "try:\n",
        "  # %tensorflow_version only exists in Colab.\n",
        "  %tensorflow_version 2.x\n",
        "except Exception:\n",
        "  pass\n",
        "import tensorflow as tf\n",
        "\n",
        "from tensorflow import keras\n",
        "from tensorflow.keras import layers\n",
        "\n",
        "import tensorflow_docs as tfdocs\n",
        "import tensorflow_docs.plots\n",
        "import tensorflow_docs.modeling"
      ]
    },
    {
      "cell_type": "code",
      "execution_count": null,
      "metadata": {
        "id": "CiX2FI4gZtTt"
      },
      "outputs": [],
      "source": [
        "# Import data\n",
        "!wget https://cdn.freecodecamp.org/project-data/health-costs/insurance.csv\n",
        "dataset = pd.read_csv('insurance.csv')\n",
        "dataset.tail()"
      ]
    },
    {
      "source": [
        "dataset['expenses'].plot(kind='hist', title='expenses')\n",
        "plt.gca().spines[['top', 'right',]].set_visible(False)"
      ],
      "cell_type": "code",
      "metadata": {
        "id": "vSqPvcuSpjON"
      },
      "execution_count": null,
      "outputs": []
    },
    {
      "source": [
        "dataset['children'].plot(kind='hist', title='children')\n",
        "plt.gca().spines[['top', 'right',]].set_visible(False)"
      ],
      "cell_type": "code",
      "metadata": {
        "id": "5HQxnlG5pimN"
      },
      "execution_count": null,
      "outputs": []
    },
    {
      "source": [
        "dataset['bmi'].plot(kind='hist', title='bmi')\n",
        "plt.gca().spines[['top', 'right',]].set_visible(False)"
      ],
      "cell_type": "code",
      "metadata": {
        "id": "OFr5EKy7ph-7"
      },
      "execution_count": null,
      "outputs": []
    },
    {
      "source": [
        "dataset['age'].plot(kind='hist', bins=20, title='age')\n",
        "plt.gca().spines[['top', 'right',]].set_visible(False)"
      ],
      "cell_type": "code",
      "metadata": {
        "id": "P5Nx7ohOphFQ"
      },
      "execution_count": null,
      "outputs": []
    },
    {
      "source": [
        "dataset.groupby('region').size().plot(kind='bar', color=sns.palettes.mpl_palette('Dark2'))\n",
        "plt.gca().spines[['top', 'right',]].set_visible(False)"
      ],
      "cell_type": "code",
      "metadata": {
        "id": "kr7WSsRko1F0"
      },
      "execution_count": null,
      "outputs": []
    },
    {
      "source": [
        "dataset.groupby('smoker').size().plot(kind='bar', color=sns.palettes.mpl_palette('Dark2'))\n",
        "plt.gca().spines[['top', 'right',]].set_visible(False)"
      ],
      "cell_type": "code",
      "metadata": {
        "id": "Swr0KfSfo0lL"
      },
      "execution_count": null,
      "outputs": []
    },
    {
      "source": [
        "dataset.groupby('sex').size().plot(kind='bar', color=sns.palettes.mpl_palette('Dark2'))\n",
        "plt.gca().spines[['top', 'right',]].set_visible(False)"
      ],
      "cell_type": "code",
      "metadata": {
        "id": "HZkmcxNuozcV"
      },
      "execution_count": null,
      "outputs": []
    },
    {
      "cell_type": "code",
      "execution_count": null,
      "metadata": {
        "id": "LcopvQh3X-kX"
      },
      "outputs": [],
      "source": [
        "dataset.info()"
      ]
    },
    {
      "cell_type": "code",
      "source": [
        "dataset.describe()"
      ],
      "metadata": {
        "id": "laf4NL-kp3Uw"
      },
      "execution_count": null,
      "outputs": []
    },
    {
      "cell_type": "code",
      "source": [
        "categorical_data = dataset.select_dtypes(include=['object']).columns.tolist()\n",
        "numerical_data = dataset.select_dtypes(include=['float64', 'int64']).columns.tolist()\n",
        "print(categorical_data)\n",
        "print(numerical_data)"
      ],
      "metadata": {
        "id": "_J4fsU4txOTi"
      },
      "execution_count": null,
      "outputs": []
    },
    {
      "cell_type": "code",
      "source": [
        "# convert categorical data to numbers\n",
        "preprocessor = ColumnTransformer([\n",
        "    ('scale_numeric', MinMaxScaler(), numerical_data),\n",
        "    ('encode_categorical', OneHotEncoder(), categorical_data)\n",
        "])\n",
        "\n",
        "data_numerical_and_scaled = preprocessor.fit_transform(dataset)"
      ],
      "metadata": {
        "id": "08tnDhq7t0lq"
      },
      "execution_count": null,
      "outputs": []
    },
    {
      "cell_type": "code",
      "source": [
        "cols = numerical_data + list(preprocessor.named_transformers_['encode_categorical'].get_feature_names_out(categorical_data))\n",
        "df = pd.DataFrame(data_numerical_and_scaled, columns=cols)\n",
        "df['expenses'] = dataset['expenses']\n",
        "df.head()"
      ],
      "metadata": {
        "id": "Cxv0h9w4xJG9"
      },
      "execution_count": null,
      "outputs": []
    },
    {
      "cell_type": "code",
      "source": [
        "df_clean = df.drop(['sex_male', 'smoker_yes'], axis=1)\n",
        "df_clean.head()"
      ],
      "metadata": {
        "id": "IL35A3rGMSxe"
      },
      "execution_count": null,
      "outputs": []
    },
    {
      "cell_type": "code",
      "source": [
        "# 80% of the data as the train_dataset and 20% of the data as the test_dataset\n",
        "train_dataset, test_dataset = train_test_split(df_clean, test_size=0.2, random_state=0)\n",
        "\n",
        "# pop off the \"expenses\" column from these datasets to create new datasets\n",
        "train_labels = train_dataset.pop('expenses')\n",
        "test_labels = test_dataset.pop('expenses')"
      ],
      "metadata": {
        "id": "5C22HRzJxEoM"
      },
      "execution_count": null,
      "outputs": []
    },
    {
      "cell_type": "code",
      "source": [
        "# create a model and train it with the train_dataset\n",
        "model = keras.Sequential([\n",
        "    layers.Input(shape=[len(train_dataset.keys())]),\n",
        "    layers.Dense(64, activation='relu'),\n",
        "    layers.Dense(64, activation='relu'),\n",
        "    layers.Dense(1)\n",
        "])\n",
        "\n",
        "model.compile(optimizer=tf.keras.optimizers.Adam(0.01),\n",
        "              loss='mse',\n",
        "              metrics=['mae', 'mse'])\n",
        "\n",
        "# use the labels when training the model\n",
        "history = model.fit(train_dataset, train_labels, epochs=100, validation_split=0.2, verbose=0)"
      ],
      "metadata": {
        "id": "5deE5gEFw_TH"
      },
      "execution_count": null,
      "outputs": []
    },
    {
      "cell_type": "code",
      "execution_count": null,
      "metadata": {
        "id": "Xe7RXH3N3CWU"
      },
      "outputs": [],
      "source": [
        "# RUN THIS CELL TO TEST YOUR MODEL. DO NOT MODIFY CONTENTS.\n",
        "# Test model by checking how well the model generalizes using the test set.\n",
        "loss, mae, mse = model.evaluate(test_dataset, test_labels, verbose=2)\n",
        "\n",
        "print(\"Testing set Mean Abs Error: {:5.2f} expenses\".format(mae))\n",
        "\n",
        "if mae < 3500:\n",
        "  print(\"You passed the challenge. Great job!\")\n",
        "else:\n",
        "  print(\"The Mean Abs Error must be less than 3500. Keep trying.\")\n",
        "\n",
        "# Plot predictions.\n",
        "test_predictions = model.predict(test_dataset).flatten()\n",
        "\n",
        "a = plt.axes(aspect='equal')\n",
        "plt.scatter(test_labels, test_predictions)\n",
        "plt.xlabel('True values (expenses)')\n",
        "plt.ylabel('Predictions (expenses)')\n",
        "lims = [0, 50000]\n",
        "plt.xlim(lims)\n",
        "plt.ylim(lims)\n",
        "_ = plt.plot(lims,lims)\n"
      ]
    }
  ],
  "metadata": {
    "colab": {
      "private_outputs": true,
      "provenance": []
    },
    "kernelspec": {
      "display_name": "Python 3",
      "name": "python3"
    }
  },
  "nbformat": 4,
  "nbformat_minor": 0
}